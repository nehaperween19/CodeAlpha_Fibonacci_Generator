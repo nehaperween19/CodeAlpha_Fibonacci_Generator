{
 "cells": [
  {
   "cell_type": "code",
   "execution_count": 11,
   "metadata": {},
   "outputs": [],
   "source": [
    "import os\n",
    "import shutil\n"
   ]
  },
  {
   "cell_type": "code",
   "execution_count": 12,
   "metadata": {},
   "outputs": [],
   "source": [
    "path=r'C:\\Users\\dell\\Documents\\fileOrganizer(neha)'"
   ]
  },
  {
   "cell_type": "code",
   "execution_count": 13,
   "metadata": {},
   "outputs": [
    {
     "data": {
      "text/plain": [
       "usage(total=149560487936, used=121318264832, free=28242223104)"
      ]
     },
     "execution_count": 13,
     "metadata": {},
     "output_type": "execute_result"
    }
   ],
   "source": [
    "shutil.disk_usage(path)"
   ]
  },
  {
   "cell_type": "code",
   "execution_count": 14,
   "metadata": {},
   "outputs": [
    {
     "data": {
      "text/plain": [
       "['docx',\n",
       " 'docxchap2.docx',\n",
       " 'jpeg',\n",
       " 'jpegbl.jpeg',\n",
       " 'jpg',\n",
       " 'jpgc.jpg',\n",
       " 'mp4',\n",
       " 'mp4tk 2024-02-09 20-06-11.mp4',\n",
       " 'pdf',\n",
       " 'pdfsocial engineering pdf.pdf']"
      ]
     },
     "execution_count": 14,
     "metadata": {},
     "output_type": "execute_result"
    }
   ],
   "source": [
    "list_of_file= os.listdir(path)\n",
    "list_of_file"
   ]
  },
  {
   "cell_type": "code",
   "execution_count": 15,
   "metadata": {},
   "outputs": [
    {
     "name": "stdout",
     "output_type": "stream",
     "text": [
      "docx \n",
      "docxchap2 .docx\n",
      "jpeg \n",
      "jpegbl .jpeg\n",
      "jpg \n",
      "jpgc .jpg\n",
      "mp4 \n",
      "mp4tk 2024-02-09 20-06-11 .mp4\n",
      "pdf \n",
      "pdfsocial engineering pdf .pdf\n"
     ]
    }
   ],
   "source": [
    "for file in list_of_file:\n",
    "    name, extension = os.path.splitext(file)\n",
    "    print(name, extension)\n",
    "    extension = extension[1:]\n",
    "\n",
    "    if os.path.exists(path+'/'+extension):\n",
    "        shutil.move(path+'/'+file, path+'/'+extension+'/'+file)\n",
    "    else:\n",
    "        os.makedirs(path+'/'+extension)\n",
    "        shutil.move(path+'/'+file, path+'/'+extension+file)"
   ]
  }
 ],
 "metadata": {
  "kernelspec": {
   "display_name": "Python 3",
   "language": "python",
   "name": "python3"
  },
  "language_info": {
   "codemirror_mode": {
    "name": "ipython",
    "version": 3
   },
   "file_extension": ".py",
   "mimetype": "text/x-python",
   "name": "python",
   "nbconvert_exporter": "python",
   "pygments_lexer": "ipython3",
   "version": "3.12.2"
  }
 },
 "nbformat": 4,
 "nbformat_minor": 2
}
